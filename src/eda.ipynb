{
 "cells": [
  {
   "cell_type": "code",
   "execution_count": null,
   "metadata": {},
   "outputs": [],
   "source": [
    "import numpy as np\n",
    "import pandas as pd\n",
    "import matplotlib.pyplot as plt\n",
    "import seaborn as sns\n",
    "from math import cos, asin, sqrt, pi #calculate distance"
   ]
  },
  {
   "cell_type": "markdown",
   "metadata": {},
   "source": [
    "# Preprocessing Tasks"
   ]
  },
  {
   "cell_type": "markdown",
   "metadata": {},
   "source": [
    "### Loading all datasets"
   ]
  },
  {
   "cell_type": "code",
   "execution_count": null,
   "metadata": {},
   "outputs": [],
   "source": [
    "cases_train = pd.read_csv('./datasets/cases_2021_train.csv')\n",
    "cases_test = pd.read_csv('./datasets/cases_2021_test.csv')\n",
    "cases_location = pd.read_csv('./datasets/location_2021.csv')"
   ]
  },
  {
   "cell_type": "markdown",
   "metadata": {},
   "source": [
    "## 1.1 Cleaning messy outcome labels"
   ]
  },
  {
   "cell_type": "code",
   "execution_count": null,
   "metadata": {},
   "outputs": [],
   "source": [
    "labels = {\n",
    "    'Discharged': 'hospitalized', 'Discharged from hospital': 'hospitalized', 'Hospitalized': 'hospitalized', 'critical condition': 'hospitalized', 'discharge': 'hospitalized', 'discharged': 'hospitalized', \n",
    "    'Alive': 'nonhospitalized', 'Receiving Treatment': 'nonhospitalized', 'Stable': 'nonhospitalized', 'Under treatment': 'nonhospitalized', 'recovering at home 03.03.2020': 'nonhospitalized', 'released from quarantine': 'nonhospitalized', 'stable': 'nonhospitalized', 'stable condition': 'nonhospitalized', \n",
    "    'Dead': 'deceased', 'Death': 'deceased', 'Deceased': 'deceased', 'Died': 'deceased', 'death': 'deceased', 'died': 'deceased',\n",
    "     'Recovered': 'recovered', 'recovered': 'recovered'\n",
    "}"
   ]
  },
  {
   "cell_type": "code",
   "execution_count": null,
   "metadata": {},
   "outputs": [],
   "source": [
    "cases_train['outcome_group'] = cases_train['outcome'].map(labels)"
   ]
  },
  {
   "cell_type": "code",
   "execution_count": null,
   "metadata": {},
   "outputs": [],
   "source": [
    "cases_train = cases_train.drop(columns=['outcome'])"
   ]
  },
  {
   "cell_type": "markdown",
   "metadata": {},
   "source": [
    "## 1.3 Exploratory Data Analysis "
   ]
  },
  {
   "cell_type": "markdown",
   "metadata": {},
   "source": [
    "### 1.3.1 train / test dataset"
   ]
  },
  {
   "cell_type": "code",
   "execution_count": null,
   "metadata": {},
   "outputs": [],
   "source": [
    "print('cases_2021_train.csv:')\n",
    "stats_cases_train = cases_train.describe(include='all')\n",
    "stats_cases_train = stats_cases_train.append(pd.DataFrame([cases_train.isna().sum()], index=['null'])) # add count of null values\n",
    "stats_cases_train = stats_cases_train.iloc[[0,11,1]] # keep [count, null, unique]\n",
    "stats_cases_train"
   ]
  },
  {
   "cell_type": "code",
   "execution_count": null,
   "metadata": {},
   "outputs": [],
   "source": [
    "print('cases_2021_test.csv')\n",
    "stats_cases_test = cases_test.describe(include='all').round(2)\n",
    "stats_cases_test = stats_cases_test.append(pd.DataFrame([cases_test.isna().sum()], index=['null'])) # add count of null values\n",
    "stats_cases_test = stats_cases_test.iloc[[0,11,1]] # keep [count, null, unique]\n",
    "stats_cases_test"
   ]
  },
  {
   "cell_type": "code",
   "execution_count": null,
   "metadata": {},
   "outputs": [],
   "source": [
    "# age attribute\n",
    "plt.figure(figsize=(14,5))\n",
    "plt.subplot(1,2,1)\n",
    "plt.hist(pd.to_numeric(cases_train['age'], errors='coerce'), bins=10)\n",
    "plt.title('Train Cases by Age')\n",
    "plt.xlabel('Age')\n",
    "plt.ylabel('Count')\n",
    "\n",
    "plt.subplot(1,2,2)\n",
    "plt.hist(pd.to_numeric(cases_test['age'], errors='coerce'), bins=10)\n",
    "plt.title('Test Cases by Age')\n",
    "plt.xlabel('Age')\n",
    "plt.ylabel('Count')\n",
    "\n",
    "plt.savefig('plots/task-1.3/Train_Test_Age.svg')"
   ]
  },
  {
   "cell_type": "code",
   "execution_count": null,
   "metadata": {},
   "outputs": [],
   "source": [
    "# sex attribute\n",
    "plt.figure(figsize=(6,3))\n",
    "plt.subplot(1,2,1)\n",
    "plt.bar(cases_train['sex'].value_counts().index,cases_train['sex'].value_counts())\n",
    "plt.title('Train Cases by Sex')\n",
    "plt.ylabel('Count')\n",
    "\n",
    "plt.subplot(1,2,2)\n",
    "plt.bar(cases_test['sex'].value_counts().index,cases_test['sex'].value_counts())\n",
    "plt.title('Test Cases by Sex')\n",
    "plt.ylabel('Count')\n",
    "plt.tight_layout()\n",
    "\n",
    "plt.savefig('plots/task-1.3/Train_Test_Sex.svg')"
   ]
  },
  {
   "cell_type": "code",
   "execution_count": null,
   "metadata": {},
   "outputs": [],
   "source": [
    "# age & sex attribute\n",
    "plt.figure(figsize=(14,5))\n",
    "plt.subplot(1,2,1)\n",
    "values = cases_train[['age', 'sex']]\n",
    "plt.hist(pd.to_numeric(values.loc[values['sex']=='male', 'age'], errors='coerce'), bins=10)\n",
    "plt.hist(pd.to_numeric(values.loc[values['sex']=='female', 'age'], errors='coerce'), bins=10)\n",
    "plt.title('Train Cases by Age and Sex')\n",
    "plt.legend(['male', 'female'])\n",
    "plt.xlabel('Age')\n",
    "plt.ylabel('Count')\n",
    "\n",
    "plt.subplot(1,2,2)\n",
    "values = cases_test[['age', 'sex']]\n",
    "plt.hist(pd.to_numeric(values.loc[values['sex']=='male', 'age'], errors='coerce'), bins=10)\n",
    "plt.hist(pd.to_numeric(values.loc[values['sex']=='female', 'age'], errors='coerce'), bins=10)\n",
    "plt.title('Test Cases by Age and Sex')\n",
    "plt.legend(['male', 'female'])\n",
    "plt.xlabel('Age')\n",
    "plt.ylabel('Count')\n",
    "\n",
    "plt.savefig('plots/task-1.3/Train_Test_Age_Sex.svg')"
   ]
  },
  {
   "cell_type": "code",
   "execution_count": null,
   "metadata": {},
   "outputs": [],
   "source": [
    "# country attribute\n",
    "plt.figure(figsize=(12,5))\n",
    "plt.subplot(1,2,1)\n",
    "values = pd.DataFrame(cases_train['country'].value_counts()).reset_index()\n",
    "values['index'] = values.apply(lambda x: x['index'] if x.country>100 else 'Other', axis=1)# sumarize others\n",
    "plt.bar(values['index'], values['country'])\n",
    "plt.title('Train Cases by Country')\n",
    "plt.ylabel('Count')\n",
    "\n",
    "plt.subplot(1,2,2)\n",
    "values = pd.DataFrame(cases_test['country'].value_counts()).reset_index()\n",
    "values['index'] = values.apply(lambda x: x['index'] if x.country>60 else 'Other', axis=1)# sumarize others\n",
    "plt.bar(values['index'], values['country'])\n",
    "plt.title('Test Cases by Country')\n",
    "plt.ylabel('Count')\n",
    "plt.tight_layout()\n",
    "\n",
    "plt.savefig('plots/task-1.3/Train_Test_Country.svg')"
   ]
  },
  {
   "cell_type": "code",
   "execution_count": null,
   "metadata": {},
   "outputs": [],
   "source": [
    "# country attribute\n",
    "plt.figure(figsize=(12,5))\n",
    "plt.subplot(1,2,1)\n",
    "values = pd.DataFrame(cases_train['country'].value_counts()).reset_index()\n",
    "values = values.drop(index=[0, 1])\n",
    "values['index'] = values.apply(lambda x: x['index'] if x.country>60 else 'Other', axis=1)# sumarize others\n",
    "plt.bar(values['index'], values['country'])\n",
    "plt.title('Train Cases by Country (w/o India, Philippines)')\n",
    "plt.ylabel('Count')\n",
    "\n",
    "plt.subplot(1,2,2)\n",
    "values = pd.DataFrame(cases_test['country'].value_counts()).reset_index()\n",
    "values = values.drop(index=[0, 1])\n",
    "values['index'] = values.apply(lambda x: x['index'] if x.country>30 else 'Other', axis=1)# sumarize others\n",
    "plt.bar(values['index'], values['country'])\n",
    "plt.title('Test Cases by Country (w/o India, Philippines)')\n",
    "plt.ylabel('Count')\n",
    "#plt.show()\n",
    "plt.savefig('plots/task-1.3/Train_Test_Country2.svg')"
   ]
  },
  {
   "cell_type": "code",
   "execution_count": null,
   "metadata": {},
   "outputs": [],
   "source": [
    "# province attribute - India\n",
    "plt.figure(figsize=(20,6))\n",
    "plt.subplot(1,2,1)\n",
    "values = cases_train[cases_train['country']=='India']\n",
    "values = pd.DataFrame(values['province'].value_counts().sort_values(ascending=True)).reset_index()\n",
    "values['index'] = values.apply(lambda x: x['index'] if x.province>500 else 'Other', axis=1)#sumarize others\n",
    "plt.barh(values['index'], values['province'])\n",
    "plt.title('Train Cases by Province for India')\n",
    "plt.xlabel('Count')\n",
    "\n",
    "plt.subplot(1,2,2)\n",
    "values = cases_test[cases_test['country']=='India']\n",
    "values = pd.DataFrame(values['province'].value_counts().sort_values(ascending=True)).reset_index()\n",
    "values['index'] = values.apply(lambda x: x['index'] if x.province>500 else 'Other', axis=1)#sumarize others\n",
    "plt.barh(values['index'], values['province'])\n",
    "plt.title('Test Cases by Province for India')\n",
    "plt.xlabel('Count')\n",
    "plt.tight_layout()\n",
    "\n",
    "plt.savefig('plots/task-1.3/Train_Test_Provinces_India.svg')"
   ]
  },
  {
   "cell_type": "code",
   "execution_count": null,
   "metadata": {},
   "outputs": [],
   "source": [
    "# province attribute - Philippines\n",
    "plt.figure(figsize=(20,6))\n",
    "plt.subplot(1,2,1)\n",
    "values = cases_train[cases_train['country']=='Philippines']\n",
    "values = pd.DataFrame(values['province'].value_counts().sort_values(ascending=True)).reset_index()\n",
    "values['index'] = values.apply(lambda x: x['index'] if x.province>10 else 'Other', axis=1)#sumarize others\n",
    "plt.barh(values['index'], values['province'])\n",
    "plt.title('Train Cases by Province for Philippines')\n",
    "plt.xlabel('Count')\n",
    "\n",
    "plt.subplot(1,2,2)\n",
    "values = cases_test[cases_test['country']=='Philippines']\n",
    "values = pd.DataFrame(values['province'].value_counts().sort_values(ascending=True)).reset_index()\n",
    "values['index'] = values.apply(lambda x: x['index'] if x.province>10 else 'Other', axis=1)#sumarize others\n",
    "plt.barh(values['index'], values['province'])\n",
    "plt.title('Test Cases by Province for Philippines')\n",
    "plt.xlabel('Count')\n",
    "plt.tight_layout()\n",
    "\n",
    "plt.savefig('plots/task-1.3/Train_Test_Provinces_Philippines.svg')"
   ]
  },
  {
   "cell_type": "code",
   "execution_count": null,
   "metadata": {},
   "outputs": [],
   "source": [
    "# latitude / longitude attribute\n",
    "plt.figure(figsize=(16,5))\n",
    "plt.subplot(1,2,1)\n",
    "plt.plot(cases_train['latitude'], cases_train['longitude'], '.')\n",
    "plt.title('Train Cases by Latitude / Longitude')\n",
    "plt.xlabel('Latitude')\n",
    "plt.ylabel('Longitude')\n",
    "\n",
    "plt.subplot(1,2,2)\n",
    "plt.plot(cases_test['latitude'], cases_test['longitude'], '.')\n",
    "plt.title('Test Cases by Latitude / Longitude')\n",
    "plt.xlabel('Latitude')\n",
    "plt.ylabel('Longitude')\n",
    "\n",
    "plt.savefig('plots/task-1.3/Train_Test_Lat_Lon.svg')"
   ]
  },
  {
   "cell_type": "code",
   "execution_count": null,
   "metadata": {},
   "outputs": [],
   "source": [
    "# date_confirmation attribute\n",
    "# add month attribute\n",
    "cases_train['month'] = cases_train.apply(lambda x: str(x.date_confirmation)[3:5] + str(x.date_confirmation)[6:10], axis=1)\n",
    "cases_train = cases_train.replace(\"\", np.NaN)\n",
    "cases_test['month'] = cases_test.apply(lambda x: str(x.date_confirmation)[3:5] + str(x.date_confirmation)[6:10], axis=1)\n",
    "cases_test = cases_test.replace(\"\", np.NaN)\n",
    "\n",
    "plt.figure(figsize=(16, 5))\n",
    "plt.subplot(1,2,1)\n",
    "plt.bar(cases_train['month'].value_counts().index, cases_train['month'].value_counts())\n",
    "plt.title('Train Cases by Confirmation Date')\n",
    "plt.xlabel('Month')\n",
    "plt.ylabel('Count')\n",
    "\n",
    "plt.subplot(1,2,2)\n",
    "plt.bar(cases_test['month'].value_counts().index, cases_test['month'].value_counts())\n",
    "plt.title('Test Cases by Confirmation Date')\n",
    "plt.xlabel('Month')\n",
    "plt.ylabel('Count')\n",
    "\n",
    "plt.savefig('plots/task-1.3/Train_Test_Date.svg')"
   ]
  },
  {
   "cell_type": "code",
   "execution_count": null,
   "metadata": {},
   "outputs": [],
   "source": [
    "# chronic disease  attribute\n",
    "plt.figure(figsize=(9,4))\n",
    "plt.subplot(1,2,1)\n",
    "plt.bar(['True','False'],cases_train['chronic_disease_binary'].value_counts())\n",
    "plt.title('Train Cases by Chronic Disease')\n",
    "plt.ylabel('Count')\n",
    "\n",
    "plt.subplot(1,2,2)\n",
    "plt.bar(['True','False'],cases_test['chronic_disease_binary'].value_counts())\n",
    "plt.title('Test Cases by Chronic Disease')\n",
    "plt.ylabel('Count')\n",
    "plt.tight_layout()\n",
    "\n",
    "plt.savefig('plots/task-1.3/Train_Test_Chronic_Disease.svg')"
   ]
  },
  {
   "cell_type": "code",
   "execution_count": null,
   "metadata": {},
   "outputs": [],
   "source": [
    "#outcome group attribute\n",
    "plt.bar(cases_train['outcome_group'].value_counts().index,cases_train['outcome_group'].value_counts())\n",
    "plt.title('Train Cases by Outcome Group')\n",
    "plt.ylabel('Count')\n",
    "\n",
    "plt.savefig('plots/task-1.3/Train_Test_Outcome_Group.svg')"
   ]
  },
  {
   "cell_type": "markdown",
   "metadata": {},
   "source": [
    "### 1.3.2 location dataset"
   ]
  },
  {
   "cell_type": "code",
   "execution_count": null,
   "metadata": {},
   "outputs": [],
   "source": [
    "stats_cases_location = cases_location.describe(include=\"all\").round(2)\n",
    "stats_cases_location = stats_cases_location.append(pd.DataFrame([cases_location.isna().sum()], index=['null'])) # add count of null values\n",
    "stats_cases_location = stats_cases_location.iloc[[0,11,1, 4, 5, 6, 10]] # keep [count, null, unique]\n",
    "stats_cases_location"
   ]
  },
  {
   "cell_type": "code",
   "execution_count": null,
   "metadata": {
    "scrolled": true
   },
   "outputs": [],
   "source": [
    "# country / region attribute\n",
    "plt.figure(figsize=(16,5))\n",
    "values = pd.DataFrame(cases_location['Country_Region'].value_counts()).reset_index()\n",
    "values['index'] = values.apply(lambda x: x['index'] if x['Country_Region']>15 else 'Other', axis=1)# sumarize others\n",
    "plt.bar(values['index'], values['Country_Region'])\n",
    "plt.title('Data Points per Country / Region')\n",
    "plt.ylabel('Count')\n",
    "plt.xticks(rotation=45)\n",
    "\n",
    "plt.savefig('plots/task-1.3/Location_Region.svg')"
   ]
  },
  {
   "cell_type": "code",
   "execution_count": null,
   "metadata": {},
   "outputs": [],
   "source": [
    "# latitude / longitude attribute\n",
    "plt.figure(figsize=(10,7))\n",
    "plt.plot(cases_location['Lat'], cases_location['Long_'], '.')\n",
    "plt.title('Data Points by Latitude / Longitude')\n",
    "plt.xlabel('Latitude')\n",
    "plt.ylabel('Longitude')\n",
    "\n",
    "plt.savefig('plots/task-1.3/Location_Lat_Lon.svg')"
   ]
  },
  {
   "cell_type": "code",
   "execution_count": null,
   "metadata": {
    "scrolled": true
   },
   "outputs": [],
   "source": [
    "# confirmed, recovered, active, deaths attribute\n",
    "values = cases_location.groupby('Country_Region').sum()\n",
    "values = values.nlargest(25, 'Confirmed') #get Top 25 countries\n",
    "\n",
    "plt.figure(figsize=(16,5))\n",
    "plt.bar(values.index, values['Recovered'], color='green')\n",
    "plt.bar(values.index, values['Active'], color='orange')\n",
    "plt.bar(values.index, values['Deaths'],  color='black')\n",
    "plt.xticks(rotation=45)\n",
    "plt.legend(['Recovered', 'Active', 'Deaths'])\n",
    "plt.title('Confirmed Cases by Country')\n",
    "plt.ylabel('Count')\n",
    "plt.ticklabel_format(axis='y', style='plain') # prevent scientific notation\n",
    "\n",
    "plt.savefig('plots/task-1.3/Location_Confirmed.svg')"
   ]
  },
  {
   "cell_type": "code",
   "execution_count": null,
   "metadata": {},
   "outputs": [],
   "source": [
    "# incident rate attribute\n",
    "values = cases_location.groupby('Country_Region').mean()\n",
    "values = values.nlargest(25, 'Incident_Rate')\n",
    "\n",
    "plt.figure(figsize=(16,5))\n",
    "plt.plot(values.index, values['Incident_Rate'])\n",
    "plt.xticks(rotation=45)\n",
    "plt.title('Incident Rate by Country')\n",
    "plt.ylabel('Incident Rate')\n",
    "\n",
    "plt.savefig('plots/task-1.3/Location_Incident_Rate.svg')"
   ]
  },
  {
   "cell_type": "code",
   "execution_count": null,
   "metadata": {},
   "outputs": [],
   "source": [
    "# case_fatality attribute\n",
    "values = cases_location.groupby('Country_Region').mean()\n",
    "values = values.nlargest(25, 'Case_Fatality_Ratio')\n",
    "\n",
    "plt.figure(figsize=(16,5))\n",
    "plt.plot(values.index, values['Case_Fatality_Ratio'])\n",
    "plt.xticks(rotation=45)\n",
    "plt.title('Case Fatality Ratio by Country')\n",
    "plt.ylabel('Fatality Rate')\n",
    "\n",
    "plt.savefig('plots/task-1.3/Location_Fatality_Rate.svg')"
   ]
  }
 ],
 "metadata": {
  "interpreter": {
   "hash": "3ff4c835d7956487bba13277bf340d67efa161ba50aa68448d8213de87c08323"
  },
  "kernelspec": {
   "display_name": "Python 3",
   "language": "python",
   "name": "python3"
  },
  "language_info": {
   "codemirror_mode": {
    "name": "ipython",
    "version": 3
   },
   "file_extension": ".py",
   "mimetype": "text/x-python",
   "name": "python",
   "nbconvert_exporter": "python",
   "pygments_lexer": "ipython3",
   "version": "3.7.6"
  }
 },
 "nbformat": 4,
 "nbformat_minor": 2
}

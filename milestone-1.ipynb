{
 "cells": [
  {
   "cell_type": "code",
   "execution_count": 1,
   "metadata": {},
   "outputs": [],
   "source": [
    "import numpy as np\n",
    "import pandas as pd\n",
    "import matplotlib.pyplot as plt\n",
    "import seaborn as sns"
   ]
  },
  {
   "cell_type": "markdown",
   "metadata": {},
   "source": [
    "# Preprocessing Tasks"
   ]
  },
  {
   "cell_type": "markdown",
   "metadata": {},
   "source": [
    "### Loading all datasets"
   ]
  },
  {
   "cell_type": "code",
   "execution_count": 13,
   "metadata": {},
   "outputs": [],
   "source": [
    "cases_test = pd.read_csv('./datasets/cases_2021_test.csv')\n",
    "cases_location = pd.read_csv('./datasets/location_2021.csv')"
   ]
  },
  {
   "cell_type": "markdown",
   "metadata": {},
   "source": [
    "## 1.1 Cleaning messy outcome labels\n",
    "Datasets involved: cases_2021_train.csv"
   ]
  },
  {
   "cell_type": "code",
   "execution_count": 2,
   "metadata": {},
   "outputs": [],
   "source": [
    "cases_train = pd.read_csv('./datasets/cases_2021_train.csv')"
   ]
  },
  {
   "cell_type": "code",
   "execution_count": 3,
   "metadata": {},
   "outputs": [
    {
     "data": {
      "text/plain": [
       "outcome\n",
       "Alive                     25\n",
       "Dead                       1\n",
       "Death                      1\n",
       "Deceased                 581\n",
       "Died                       1\n",
       "Hospitalized           24519\n",
       "Receiving Treatment       24\n",
       "Recovered              11364\n",
       "Stable                     1\n",
       "Under treatment           45\n",
       "death                      6\n",
       "died                     111\n",
       "discharge                 28\n",
       "discharged                16\n",
       "recovered                425\n",
       "stable                    21\n",
       "stable condition          22\n",
       "dtype: int64"
      ]
     },
     "execution_count": 3,
     "metadata": {},
     "output_type": "execute_result"
    }
   ],
   "source": [
    "cases_train.groupby('outcome').size()"
   ]
  },
  {
   "cell_type": "code",
   "execution_count": 4,
   "metadata": {},
   "outputs": [],
   "source": [
    "# labels_test = {\n",
    "#     'hospitalized': {'Discharged', 'Discharged from hospital', 'Hospitalized', 'critical condition','discharge', 'discharged'},\n",
    "#     'nonhospitalized': {'Alive', 'Receiving Treatment', 'Stable', 'Under treatment', 'recovering at home 03.03.2020', 'released from quarantine', 'stable', 'stable condition'},\n",
    "#     'deceased': {'Dead', 'Death', 'Deceased', 'Died', 'death', 'died'},\n",
    "#     'recovered': {'Recovered', 'recovered'}\n",
    "# }"
   ]
  },
  {
   "cell_type": "markdown",
   "metadata": {},
   "source": [
    "### Mapping similar outcomes"
   ]
  },
  {
   "cell_type": "code",
   "execution_count": 5,
   "metadata": {},
   "outputs": [],
   "source": [
    "labels = {\n",
    "    'Discharged': 'hospitalized', 'Discharged from hospital': 'hospitalized', 'Hospitalized': 'hospitalized', 'critical condition': 'hospitalized', 'discharge': 'hospitalized', 'discharged': 'hospitalized', \n",
    "    'Alive': 'nonhospitalized', 'Receiving Treatment': 'nonhospitalized', 'Stable': 'nonhospitalized', 'Under treatment': 'nonhospitalized', 'recovering at home 03.03.2020': 'nonhospitalized', 'released from quarantine': 'nonhospitalized', 'stable': 'nonhospitalized', 'stable condition': 'nonhospitalized', \n",
    "    'Dead': 'deceased', 'Death': 'deceased', 'Deceased': 'deceased', 'Died': 'deceased', 'death': 'deceased', 'died': 'deceased',\n",
    "     'Recovered': 'recovered', 'recovered': 'recovered'\n",
    "}"
   ]
  },
  {
   "cell_type": "code",
   "execution_count": 6,
   "metadata": {},
   "outputs": [],
   "source": [
    "cases_train['outcome_group'] = cases_train['outcome'].map(labels)"
   ]
  },
  {
   "cell_type": "code",
   "execution_count": 7,
   "metadata": {},
   "outputs": [
    {
     "data": {
      "text/html": [
       "<div>\n",
       "<style scoped>\n",
       "    .dataframe tbody tr th:only-of-type {\n",
       "        vertical-align: middle;\n",
       "    }\n",
       "\n",
       "    .dataframe tbody tr th {\n",
       "        vertical-align: top;\n",
       "    }\n",
       "\n",
       "    .dataframe thead th {\n",
       "        text-align: right;\n",
       "    }\n",
       "</style>\n",
       "<table border=\"1\" class=\"dataframe\">\n",
       "  <thead>\n",
       "    <tr style=\"text-align: right;\">\n",
       "      <th></th>\n",
       "      <th>age</th>\n",
       "      <th>sex</th>\n",
       "      <th>province</th>\n",
       "      <th>country</th>\n",
       "      <th>latitude</th>\n",
       "      <th>longitude</th>\n",
       "      <th>date_confirmation</th>\n",
       "      <th>additional_information</th>\n",
       "      <th>source</th>\n",
       "      <th>chronic_disease_binary</th>\n",
       "      <th>outcome</th>\n",
       "      <th>outcome_group</th>\n",
       "    </tr>\n",
       "  </thead>\n",
       "  <tbody>\n",
       "    <tr>\n",
       "      <th>0</th>\n",
       "      <td>NaN</td>\n",
       "      <td>NaN</td>\n",
       "      <td>Maharashtra</td>\n",
       "      <td>India</td>\n",
       "      <td>19.20000</td>\n",
       "      <td>72.96667</td>\n",
       "      <td>23.05.2020</td>\n",
       "      <td>NaN</td>\n",
       "      <td>NaN</td>\n",
       "      <td>False</td>\n",
       "      <td>Hospitalized</td>\n",
       "      <td>hospitalized</td>\n",
       "    </tr>\n",
       "    <tr>\n",
       "      <th>1</th>\n",
       "      <td>NaN</td>\n",
       "      <td>NaN</td>\n",
       "      <td>Maharashtra</td>\n",
       "      <td>India</td>\n",
       "      <td>18.94017</td>\n",
       "      <td>72.83483</td>\n",
       "      <td>18.05.2020</td>\n",
       "      <td>NaN</td>\n",
       "      <td>https://t.me/indiacovid/5075</td>\n",
       "      <td>False</td>\n",
       "      <td>Recovered</td>\n",
       "      <td>recovered</td>\n",
       "    </tr>\n",
       "    <tr>\n",
       "      <th>2</th>\n",
       "      <td>NaN</td>\n",
       "      <td>NaN</td>\n",
       "      <td>Maharashtra</td>\n",
       "      <td>India</td>\n",
       "      <td>19.20000</td>\n",
       "      <td>72.96667</td>\n",
       "      <td>28.05.2020</td>\n",
       "      <td>NaN</td>\n",
       "      <td>https://phdmah.maps.arcgis.com/apps/opsdashboa...</td>\n",
       "      <td>False</td>\n",
       "      <td>Hospitalized</td>\n",
       "      <td>hospitalized</td>\n",
       "    </tr>\n",
       "    <tr>\n",
       "      <th>3</th>\n",
       "      <td>NaN</td>\n",
       "      <td>NaN</td>\n",
       "      <td>West Bengal</td>\n",
       "      <td>India</td>\n",
       "      <td>22.80862</td>\n",
       "      <td>88.79242</td>\n",
       "      <td>09.05.2020</td>\n",
       "      <td>NaN</td>\n",
       "      <td>https://www.wbhealth.gov.in/uploaded_files/cor...</td>\n",
       "      <td>False</td>\n",
       "      <td>Hospitalized</td>\n",
       "      <td>hospitalized</td>\n",
       "    </tr>\n",
       "    <tr>\n",
       "      <th>4</th>\n",
       "      <td>NaN</td>\n",
       "      <td>NaN</td>\n",
       "      <td>Maharashtra</td>\n",
       "      <td>India</td>\n",
       "      <td>18.94017</td>\n",
       "      <td>72.83483</td>\n",
       "      <td>17.05.2020</td>\n",
       "      <td>NaN</td>\n",
       "      <td>NaN</td>\n",
       "      <td>False</td>\n",
       "      <td>Hospitalized</td>\n",
       "      <td>hospitalized</td>\n",
       "    </tr>\n",
       "    <tr>\n",
       "      <th>...</th>\n",
       "      <td>...</td>\n",
       "      <td>...</td>\n",
       "      <td>...</td>\n",
       "      <td>...</td>\n",
       "      <td>...</td>\n",
       "      <td>...</td>\n",
       "      <td>...</td>\n",
       "      <td>...</td>\n",
       "      <td>...</td>\n",
       "      <td>...</td>\n",
       "      <td>...</td>\n",
       "      <td>...</td>\n",
       "    </tr>\n",
       "    <tr>\n",
       "      <th>37187</th>\n",
       "      <td>NaN</td>\n",
       "      <td>NaN</td>\n",
       "      <td>Maharashtra</td>\n",
       "      <td>India</td>\n",
       "      <td>18.94017</td>\n",
       "      <td>72.83483</td>\n",
       "      <td>28.05.2020</td>\n",
       "      <td>NaN</td>\n",
       "      <td>https://phdmah.maps.arcgis.com/apps/opsdashboa...</td>\n",
       "      <td>False</td>\n",
       "      <td>Hospitalized</td>\n",
       "      <td>hospitalized</td>\n",
       "    </tr>\n",
       "    <tr>\n",
       "      <th>37188</th>\n",
       "      <td>NaN</td>\n",
       "      <td>NaN</td>\n",
       "      <td>Madhya Pradesh</td>\n",
       "      <td>India</td>\n",
       "      <td>23.26466</td>\n",
       "      <td>77.40518</td>\n",
       "      <td>12.05.2020</td>\n",
       "      <td>NaN</td>\n",
       "      <td>https://twitter.com/ANI/status/126023457988702...</td>\n",
       "      <td>False</td>\n",
       "      <td>Recovered</td>\n",
       "      <td>recovered</td>\n",
       "    </tr>\n",
       "    <tr>\n",
       "      <th>37189</th>\n",
       "      <td>NaN</td>\n",
       "      <td>NaN</td>\n",
       "      <td>Maharashtra</td>\n",
       "      <td>India</td>\n",
       "      <td>18.94017</td>\n",
       "      <td>72.83483</td>\n",
       "      <td>29.05.2020</td>\n",
       "      <td>NaN</td>\n",
       "      <td>https://arogya.maharashtra.gov.in/pdf/ncovidep...</td>\n",
       "      <td>False</td>\n",
       "      <td>Recovered</td>\n",
       "      <td>recovered</td>\n",
       "    </tr>\n",
       "    <tr>\n",
       "      <th>37190</th>\n",
       "      <td>NaN</td>\n",
       "      <td>NaN</td>\n",
       "      <td>Madhya Pradesh</td>\n",
       "      <td>India</td>\n",
       "      <td>22.71622</td>\n",
       "      <td>75.86512</td>\n",
       "      <td>05.05.2020</td>\n",
       "      <td>NaN</td>\n",
       "      <td>https://twitter.com/JansamparkMP/status/125767...</td>\n",
       "      <td>False</td>\n",
       "      <td>Recovered</td>\n",
       "      <td>recovered</td>\n",
       "    </tr>\n",
       "    <tr>\n",
       "      <th>37191</th>\n",
       "      <td>NaN</td>\n",
       "      <td>NaN</td>\n",
       "      <td>Maharashtra</td>\n",
       "      <td>India</td>\n",
       "      <td>18.94017</td>\n",
       "      <td>NaN</td>\n",
       "      <td>NaN</td>\n",
       "      <td>NaN</td>\n",
       "      <td>NaN</td>\n",
       "      <td>NaN</td>\n",
       "      <td>NaN</td>\n",
       "      <td>NaN</td>\n",
       "    </tr>\n",
       "  </tbody>\n",
       "</table>\n",
       "<p>37192 rows × 12 columns</p>\n",
       "</div>"
      ],
      "text/plain": [
       "       age  sex        province country  latitude  longitude  \\\n",
       "0      NaN  NaN     Maharashtra   India  19.20000   72.96667   \n",
       "1      NaN  NaN     Maharashtra   India  18.94017   72.83483   \n",
       "2      NaN  NaN     Maharashtra   India  19.20000   72.96667   \n",
       "3      NaN  NaN     West Bengal   India  22.80862   88.79242   \n",
       "4      NaN  NaN     Maharashtra   India  18.94017   72.83483   \n",
       "...    ...  ...             ...     ...       ...        ...   \n",
       "37187  NaN  NaN     Maharashtra   India  18.94017   72.83483   \n",
       "37188  NaN  NaN  Madhya Pradesh   India  23.26466   77.40518   \n",
       "37189  NaN  NaN     Maharashtra   India  18.94017   72.83483   \n",
       "37190  NaN  NaN  Madhya Pradesh   India  22.71622   75.86512   \n",
       "37191  NaN  NaN     Maharashtra   India  18.94017        NaN   \n",
       "\n",
       "      date_confirmation additional_information  \\\n",
       "0            23.05.2020                    NaN   \n",
       "1            18.05.2020                    NaN   \n",
       "2            28.05.2020                    NaN   \n",
       "3            09.05.2020                    NaN   \n",
       "4            17.05.2020                    NaN   \n",
       "...                 ...                    ...   \n",
       "37187        28.05.2020                    NaN   \n",
       "37188        12.05.2020                    NaN   \n",
       "37189        29.05.2020                    NaN   \n",
       "37190        05.05.2020                    NaN   \n",
       "37191               NaN                    NaN   \n",
       "\n",
       "                                                  source  \\\n",
       "0                                                    NaN   \n",
       "1                           https://t.me/indiacovid/5075   \n",
       "2      https://phdmah.maps.arcgis.com/apps/opsdashboa...   \n",
       "3      https://www.wbhealth.gov.in/uploaded_files/cor...   \n",
       "4                                                    NaN   \n",
       "...                                                  ...   \n",
       "37187  https://phdmah.maps.arcgis.com/apps/opsdashboa...   \n",
       "37188  https://twitter.com/ANI/status/126023457988702...   \n",
       "37189  https://arogya.maharashtra.gov.in/pdf/ncovidep...   \n",
       "37190  https://twitter.com/JansamparkMP/status/125767...   \n",
       "37191                                                NaN   \n",
       "\n",
       "      chronic_disease_binary       outcome outcome_group  \n",
       "0                      False  Hospitalized  hospitalized  \n",
       "1                      False     Recovered     recovered  \n",
       "2                      False  Hospitalized  hospitalized  \n",
       "3                      False  Hospitalized  hospitalized  \n",
       "4                      False  Hospitalized  hospitalized  \n",
       "...                      ...           ...           ...  \n",
       "37187                  False  Hospitalized  hospitalized  \n",
       "37188                  False     Recovered     recovered  \n",
       "37189                  False     Recovered     recovered  \n",
       "37190                  False     Recovered     recovered  \n",
       "37191                    NaN           NaN           NaN  \n",
       "\n",
       "[37192 rows x 12 columns]"
      ]
     },
     "execution_count": 7,
     "metadata": {},
     "output_type": "execute_result"
    }
   ],
   "source": [
    "cases_train"
   ]
  },
  {
   "cell_type": "code",
   "execution_count": 8,
   "metadata": {},
   "outputs": [],
   "source": [
    "cases_train = cases_train.drop(columns=['outcome'])"
   ]
  },
  {
   "cell_type": "code",
   "execution_count": 10,
   "metadata": {},
   "outputs": [
    {
     "data": {
      "text/html": [
       "<div>\n",
       "<style scoped>\n",
       "    .dataframe tbody tr th:only-of-type {\n",
       "        vertical-align: middle;\n",
       "    }\n",
       "\n",
       "    .dataframe tbody tr th {\n",
       "        vertical-align: top;\n",
       "    }\n",
       "\n",
       "    .dataframe thead th {\n",
       "        text-align: right;\n",
       "    }\n",
       "</style>\n",
       "<table border=\"1\" class=\"dataframe\">\n",
       "  <thead>\n",
       "    <tr style=\"text-align: right;\">\n",
       "      <th></th>\n",
       "      <th>age</th>\n",
       "      <th>sex</th>\n",
       "      <th>province</th>\n",
       "      <th>country</th>\n",
       "      <th>latitude</th>\n",
       "      <th>longitude</th>\n",
       "      <th>date_confirmation</th>\n",
       "      <th>additional_information</th>\n",
       "      <th>source</th>\n",
       "      <th>chronic_disease_binary</th>\n",
       "      <th>outcome_group</th>\n",
       "    </tr>\n",
       "  </thead>\n",
       "  <tbody>\n",
       "    <tr>\n",
       "      <th>0</th>\n",
       "      <td>NaN</td>\n",
       "      <td>NaN</td>\n",
       "      <td>Maharashtra</td>\n",
       "      <td>India</td>\n",
       "      <td>19.20000</td>\n",
       "      <td>72.96667</td>\n",
       "      <td>23.05.2020</td>\n",
       "      <td>NaN</td>\n",
       "      <td>NaN</td>\n",
       "      <td>False</td>\n",
       "      <td>hospitalized</td>\n",
       "    </tr>\n",
       "    <tr>\n",
       "      <th>1</th>\n",
       "      <td>NaN</td>\n",
       "      <td>NaN</td>\n",
       "      <td>Maharashtra</td>\n",
       "      <td>India</td>\n",
       "      <td>18.94017</td>\n",
       "      <td>72.83483</td>\n",
       "      <td>18.05.2020</td>\n",
       "      <td>NaN</td>\n",
       "      <td>https://t.me/indiacovid/5075</td>\n",
       "      <td>False</td>\n",
       "      <td>recovered</td>\n",
       "    </tr>\n",
       "    <tr>\n",
       "      <th>2</th>\n",
       "      <td>NaN</td>\n",
       "      <td>NaN</td>\n",
       "      <td>Maharashtra</td>\n",
       "      <td>India</td>\n",
       "      <td>19.20000</td>\n",
       "      <td>72.96667</td>\n",
       "      <td>28.05.2020</td>\n",
       "      <td>NaN</td>\n",
       "      <td>https://phdmah.maps.arcgis.com/apps/opsdashboa...</td>\n",
       "      <td>False</td>\n",
       "      <td>hospitalized</td>\n",
       "    </tr>\n",
       "    <tr>\n",
       "      <th>3</th>\n",
       "      <td>NaN</td>\n",
       "      <td>NaN</td>\n",
       "      <td>West Bengal</td>\n",
       "      <td>India</td>\n",
       "      <td>22.80862</td>\n",
       "      <td>88.79242</td>\n",
       "      <td>09.05.2020</td>\n",
       "      <td>NaN</td>\n",
       "      <td>https://www.wbhealth.gov.in/uploaded_files/cor...</td>\n",
       "      <td>False</td>\n",
       "      <td>hospitalized</td>\n",
       "    </tr>\n",
       "    <tr>\n",
       "      <th>4</th>\n",
       "      <td>NaN</td>\n",
       "      <td>NaN</td>\n",
       "      <td>Maharashtra</td>\n",
       "      <td>India</td>\n",
       "      <td>18.94017</td>\n",
       "      <td>72.83483</td>\n",
       "      <td>17.05.2020</td>\n",
       "      <td>NaN</td>\n",
       "      <td>NaN</td>\n",
       "      <td>False</td>\n",
       "      <td>hospitalized</td>\n",
       "    </tr>\n",
       "    <tr>\n",
       "      <th>...</th>\n",
       "      <td>...</td>\n",
       "      <td>...</td>\n",
       "      <td>...</td>\n",
       "      <td>...</td>\n",
       "      <td>...</td>\n",
       "      <td>...</td>\n",
       "      <td>...</td>\n",
       "      <td>...</td>\n",
       "      <td>...</td>\n",
       "      <td>...</td>\n",
       "      <td>...</td>\n",
       "    </tr>\n",
       "    <tr>\n",
       "      <th>37187</th>\n",
       "      <td>NaN</td>\n",
       "      <td>NaN</td>\n",
       "      <td>Maharashtra</td>\n",
       "      <td>India</td>\n",
       "      <td>18.94017</td>\n",
       "      <td>72.83483</td>\n",
       "      <td>28.05.2020</td>\n",
       "      <td>NaN</td>\n",
       "      <td>https://phdmah.maps.arcgis.com/apps/opsdashboa...</td>\n",
       "      <td>False</td>\n",
       "      <td>hospitalized</td>\n",
       "    </tr>\n",
       "    <tr>\n",
       "      <th>37188</th>\n",
       "      <td>NaN</td>\n",
       "      <td>NaN</td>\n",
       "      <td>Madhya Pradesh</td>\n",
       "      <td>India</td>\n",
       "      <td>23.26466</td>\n",
       "      <td>77.40518</td>\n",
       "      <td>12.05.2020</td>\n",
       "      <td>NaN</td>\n",
       "      <td>https://twitter.com/ANI/status/126023457988702...</td>\n",
       "      <td>False</td>\n",
       "      <td>recovered</td>\n",
       "    </tr>\n",
       "    <tr>\n",
       "      <th>37189</th>\n",
       "      <td>NaN</td>\n",
       "      <td>NaN</td>\n",
       "      <td>Maharashtra</td>\n",
       "      <td>India</td>\n",
       "      <td>18.94017</td>\n",
       "      <td>72.83483</td>\n",
       "      <td>29.05.2020</td>\n",
       "      <td>NaN</td>\n",
       "      <td>https://arogya.maharashtra.gov.in/pdf/ncovidep...</td>\n",
       "      <td>False</td>\n",
       "      <td>recovered</td>\n",
       "    </tr>\n",
       "    <tr>\n",
       "      <th>37190</th>\n",
       "      <td>NaN</td>\n",
       "      <td>NaN</td>\n",
       "      <td>Madhya Pradesh</td>\n",
       "      <td>India</td>\n",
       "      <td>22.71622</td>\n",
       "      <td>75.86512</td>\n",
       "      <td>05.05.2020</td>\n",
       "      <td>NaN</td>\n",
       "      <td>https://twitter.com/JansamparkMP/status/125767...</td>\n",
       "      <td>False</td>\n",
       "      <td>recovered</td>\n",
       "    </tr>\n",
       "    <tr>\n",
       "      <th>37191</th>\n",
       "      <td>NaN</td>\n",
       "      <td>NaN</td>\n",
       "      <td>Maharashtra</td>\n",
       "      <td>India</td>\n",
       "      <td>18.94017</td>\n",
       "      <td>NaN</td>\n",
       "      <td>NaN</td>\n",
       "      <td>NaN</td>\n",
       "      <td>NaN</td>\n",
       "      <td>NaN</td>\n",
       "      <td>NaN</td>\n",
       "    </tr>\n",
       "  </tbody>\n",
       "</table>\n",
       "<p>37192 rows × 11 columns</p>\n",
       "</div>"
      ],
      "text/plain": [
       "       age  sex        province country  latitude  longitude  \\\n",
       "0      NaN  NaN     Maharashtra   India  19.20000   72.96667   \n",
       "1      NaN  NaN     Maharashtra   India  18.94017   72.83483   \n",
       "2      NaN  NaN     Maharashtra   India  19.20000   72.96667   \n",
       "3      NaN  NaN     West Bengal   India  22.80862   88.79242   \n",
       "4      NaN  NaN     Maharashtra   India  18.94017   72.83483   \n",
       "...    ...  ...             ...     ...       ...        ...   \n",
       "37187  NaN  NaN     Maharashtra   India  18.94017   72.83483   \n",
       "37188  NaN  NaN  Madhya Pradesh   India  23.26466   77.40518   \n",
       "37189  NaN  NaN     Maharashtra   India  18.94017   72.83483   \n",
       "37190  NaN  NaN  Madhya Pradesh   India  22.71622   75.86512   \n",
       "37191  NaN  NaN     Maharashtra   India  18.94017        NaN   \n",
       "\n",
       "      date_confirmation additional_information  \\\n",
       "0            23.05.2020                    NaN   \n",
       "1            18.05.2020                    NaN   \n",
       "2            28.05.2020                    NaN   \n",
       "3            09.05.2020                    NaN   \n",
       "4            17.05.2020                    NaN   \n",
       "...                 ...                    ...   \n",
       "37187        28.05.2020                    NaN   \n",
       "37188        12.05.2020                    NaN   \n",
       "37189        29.05.2020                    NaN   \n",
       "37190        05.05.2020                    NaN   \n",
       "37191               NaN                    NaN   \n",
       "\n",
       "                                                  source  \\\n",
       "0                                                    NaN   \n",
       "1                           https://t.me/indiacovid/5075   \n",
       "2      https://phdmah.maps.arcgis.com/apps/opsdashboa...   \n",
       "3      https://www.wbhealth.gov.in/uploaded_files/cor...   \n",
       "4                                                    NaN   \n",
       "...                                                  ...   \n",
       "37187  https://phdmah.maps.arcgis.com/apps/opsdashboa...   \n",
       "37188  https://twitter.com/ANI/status/126023457988702...   \n",
       "37189  https://arogya.maharashtra.gov.in/pdf/ncovidep...   \n",
       "37190  https://twitter.com/JansamparkMP/status/125767...   \n",
       "37191                                                NaN   \n",
       "\n",
       "      chronic_disease_binary outcome_group  \n",
       "0                      False  hospitalized  \n",
       "1                      False     recovered  \n",
       "2                      False  hospitalized  \n",
       "3                      False  hospitalized  \n",
       "4                      False  hospitalized  \n",
       "...                      ...           ...  \n",
       "37187                  False  hospitalized  \n",
       "37188                  False     recovered  \n",
       "37189                  False     recovered  \n",
       "37190                  False     recovered  \n",
       "37191                    NaN           NaN  \n",
       "\n",
       "[37192 rows x 11 columns]"
      ]
     },
     "execution_count": 10,
     "metadata": {},
     "output_type": "execute_result"
    }
   ],
   "source": [
    "cases_train"
   ]
  },
  {
   "cell_type": "code",
   "execution_count": 9,
   "metadata": {},
   "outputs": [
    {
     "data": {
      "text/plain": [
       "outcome_group\n",
       "deceased             701\n",
       "hospitalized       24563\n",
       "nonhospitalized      138\n",
       "recovered          11789\n",
       "dtype: int64"
      ]
     },
     "execution_count": 9,
     "metadata": {},
     "output_type": "execute_result"
    }
   ],
   "source": [
    "cases_train.groupby('outcome_group').size()"
   ]
  },
  {
   "cell_type": "markdown",
   "metadata": {},
   "source": [
    "## 1.3 Exploratory Data Analysis "
   ]
  },
  {
   "cell_type": "markdown",
   "metadata": {},
   "source": [
    "Ideas to explore\n",
    "\n",
    "Probably want to convert date_information to a datetime object \n",
    "\n",
    "Categorical Attributes: Province, Country, Chronic disease, outcome_group, Sex\n",
    "Numerical: Age, Date\n",
    "By: country, Age, Sex\n",
    "Age range: 18 - 30, < 18, 60 >\n"
   ]
  },
  {
   "cell_type": "markdown",
   "metadata": {},
   "source": [
    "## 1.4 Data Cleaning and Imputing Missing Values\n",
    "Datasets involved: cases_2021_train.csv, cases_2021_test.csv, location_2021.csv"
   ]
  },
  {
   "cell_type": "code",
   "execution_count": null,
   "metadata": {},
   "outputs": [],
   "source": [
    "# Primary: age column -> remove all entries that are NaN\n",
    "# format age to standard integer\n",
    "# potential approaches: \n",
    "\n",
    "# other columns -> impute, what strategies can we use to impute missing values of different columns\n",
    "# additional information: best action is replace NaN with \"\""
   ]
  },
  {
   "cell_type": "code",
   "execution_count": 24,
   "metadata": {},
   "outputs": [],
   "source": [
    "# Removing NaN's from age column in train and test datasets\n",
    "\n",
    "cases_train = cases_train[cases_train['age'].notna()].reset_index()\n",
    "cases_test = cases_test[cases_test['age'].notna()].reset_index()\n"
   ]
  },
  {
   "cell_type": "code",
   "execution_count": 50,
   "metadata": {},
   "outputs": [],
   "source": [
    "age_range = cases_train[cases_train['age'].str.contains('-') == True].reset_index(drop=True)"
   ]
  },
  {
   "cell_type": "code",
   "execution_count": 57,
   "metadata": {},
   "outputs": [
    {
     "data": {
      "text/plain": [
       "'22-80'"
      ]
     },
     "execution_count": 57,
     "metadata": {},
     "output_type": "execute_result"
    }
   ],
   "source": [
    "age_range.iloc[0]['age']"
   ]
  },
  {
   "cell_type": "code",
   "execution_count": 77,
   "metadata": {},
   "outputs": [],
   "source": [
    "# age range greater than 10 should be removed?\n",
    "\n",
    "def range_to_num(age):\n",
    "    range = 10\n",
    "\n",
    "    a_list = age.split('-')\n",
    "    map_ints = map(float, a_list)\n",
    "    map_list = list(map_ints)\n",
    "\n",
    "    if (len(map_list) == 1):\n",
    "        return round(map_list[0])\n",
    "\n",
    "    if ((map_list[1] - map_list[0]) > range):\n",
    "        return 'remove'\n",
    "    else:\n",
    "        return round((map_list[1] + map_list[0]) / 2)\n"
   ]
  },
  {
   "cell_type": "code",
   "execution_count": 78,
   "metadata": {},
   "outputs": [
    {
     "name": "stdout",
     "output_type": "stream",
     "text": [
      "22\n"
     ]
    }
   ],
   "source": [
    "print(range_to_num('22.3'))"
   ]
  },
  {
   "cell_type": "code",
   "execution_count": 67,
   "metadata": {},
   "outputs": [],
   "source": [
    "cases_train = cases_train.drop(columns=['index'])"
   ]
  },
  {
   "cell_type": "code",
   "execution_count": 79,
   "metadata": {},
   "outputs": [],
   "source": [
    "cases_train['age'] = cases_train['age'].apply(lambda x: range_to_num(x))"
   ]
  },
  {
   "cell_type": "code",
   "execution_count": null,
   "metadata": {},
   "outputs": [],
   "source": [
    "#1. Format all values with 'x-x' range to a single int value or 'remove'\n",
    "#2. Remove all entries labelled 'remove' \n",
    "#3. Convert all column entries to int\n",
    "#4. Use round() on all values to get rid of 0.3, 0.5, 0.8 values -> some babies"
   ]
  },
  {
   "cell_type": "code",
   "execution_count": 85,
   "metadata": {},
   "outputs": [],
   "source": [
    "cases_train = cases_train[cases_train['age'] != 'remove']"
   ]
  },
  {
   "cell_type": "code",
   "execution_count": null,
   "metadata": {},
   "outputs": [],
   "source": [
    "cases_train['age'] = pd.to_numeric(cases_train['age'])"
   ]
  },
  {
   "cell_type": "code",
   "execution_count": 88,
   "metadata": {},
   "outputs": [
    {
     "name": "stderr",
     "output_type": "stream",
     "text": [
      "/Users/yufengl/opt/anaconda3/envs/cmpt459/lib/python3.7/site-packages/ipykernel_launcher.py:1: SettingWithCopyWarning: \n",
      "A value is trying to be set on a copy of a slice from a DataFrame.\n",
      "Try using .loc[row_indexer,col_indexer] = value instead\n",
      "\n",
      "See the caveats in the documentation: https://pandas.pydata.org/pandas-docs/stable/user_guide/indexing.html#returning-a-view-versus-a-copy\n",
      "  \"\"\"Entry point for launching an IPython kernel.\n"
     ]
    }
   ],
   "source": [
    "cases_train['age'] = cases_train['age'].apply(lambda x: round(x))"
   ]
  },
  {
   "cell_type": "code",
   "execution_count": null,
   "metadata": {},
   "outputs": [],
   "source": []
  }
 ],
 "metadata": {
  "interpreter": {
   "hash": "3ff4c835d7956487bba13277bf340d67efa161ba50aa68448d8213de87c08323"
  },
  "kernelspec": {
   "display_name": "Python 3.7.12 64-bit ('cmpt459': conda)",
   "name": "python3"
  },
  "language_info": {
   "codemirror_mode": {
    "name": "ipython",
    "version": 3
   },
   "file_extension": ".py",
   "mimetype": "text/x-python",
   "name": "python",
   "nbconvert_exporter": "python",
   "pygments_lexer": "ipython3",
   "version": "3.7.12"
  },
  "orig_nbformat": 4
 },
 "nbformat": 4,
 "nbformat_minor": 2
}

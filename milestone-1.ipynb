{
 "cells": [
  {
   "cell_type": "code",
   "execution_count": null,
   "metadata": {},
   "outputs": [],
   "source": [
    "import numpy as np\n",
    "import pandas as pd\n",
    "import matplotlib.pyplot as plt\n",
    "import seaborn as sns\n",
    "from math import cos, asin, sqrt, pi #calculate distance"
   ]
  },
  {
   "cell_type": "markdown",
   "metadata": {},
   "source": [
    "# Preprocessing Tasks"
   ]
  },
  {
   "cell_type": "markdown",
   "metadata": {},
   "source": [
    "### Loading all datasets"
   ]
  },
  {
   "cell_type": "code",
   "execution_count": null,
   "metadata": {},
   "outputs": [],
   "source": [
    "cases_train = pd.read_csv('./datasets/cases_2021_train.csv')\n",
    "cases_test = pd.read_csv('./datasets/cases_2021_test.csv')\n",
    "cases_location = pd.read_csv('./datasets/location_2021.csv')"
   ]
  },
  {
   "cell_type": "markdown",
   "metadata": {},
   "source": [
    "## 1.1 Cleaning messy outcome labels\n",
    "Datasets involved: cases_2021_train.csv"
   ]
  },
  {
   "cell_type": "code",
   "execution_count": null,
   "metadata": {},
   "outputs": [],
   "source": [
    "cases_train.groupby('outcome').size()"
   ]
  },
  {
   "cell_type": "code",
   "execution_count": null,
   "metadata": {},
   "outputs": [],
   "source": [
    "# labels_test = {\n",
    "#     'hospitalized': {'Discharged', 'Discharged from hospital', 'Hospitalized', 'critical condition','discharge', 'discharged'},\n",
    "#     'nonhospitalized': {'Alive', 'Receiving Treatment', 'Stable', 'Under treatment', 'recovering at home 03.03.2020', 'released from quarantine', 'stable', 'stable condition'},\n",
    "#     'deceased': {'Dead', 'Death', 'Deceased', 'Died', 'death', 'died'},\n",
    "#     'recovered': {'Recovered', 'recovered'}\n",
    "# }"
   ]
  },
  {
   "cell_type": "markdown",
   "metadata": {},
   "source": [
    "### Mapping similar outcomes"
   ]
  },
  {
   "cell_type": "code",
   "execution_count": null,
   "metadata": {},
   "outputs": [],
   "source": [
    "labels = {\n",
    "    'Discharged': 'hospitalized', 'Discharged from hospital': 'hospitalized', 'Hospitalized': 'hospitalized', 'critical condition': 'hospitalized', 'discharge': 'hospitalized', 'discharged': 'hospitalized', \n",
    "    'Alive': 'nonhospitalized', 'Receiving Treatment': 'nonhospitalized', 'Stable': 'nonhospitalized', 'Under treatment': 'nonhospitalized', 'recovering at home 03.03.2020': 'nonhospitalized', 'released from quarantine': 'nonhospitalized', 'stable': 'nonhospitalized', 'stable condition': 'nonhospitalized', \n",
    "    'Dead': 'deceased', 'Death': 'deceased', 'Deceased': 'deceased', 'Died': 'deceased', 'death': 'deceased', 'died': 'deceased',\n",
    "     'Recovered': 'recovered', 'recovered': 'recovered'\n",
    "}"
   ]
  },
  {
   "cell_type": "code",
   "execution_count": null,
   "metadata": {},
   "outputs": [],
   "source": [
    "cases_train['outcome_group'] = cases_train['outcome'].map(labels)"
   ]
  },
  {
   "cell_type": "code",
   "execution_count": null,
   "metadata": {},
   "outputs": [],
   "source": [
    "cases_train"
   ]
  },
  {
   "cell_type": "code",
   "execution_count": null,
   "metadata": {},
   "outputs": [],
   "source": [
    "cases_train = cases_train.drop(columns=['outcome'])"
   ]
  },
  {
   "cell_type": "code",
   "execution_count": null,
   "metadata": {},
   "outputs": [],
   "source": [
    "cases_train"
   ]
  },
  {
   "cell_type": "code",
   "execution_count": null,
   "metadata": {},
   "outputs": [],
   "source": [
    "cases_train.groupby('outcome_group').size()"
   ]
  },
  {
   "cell_type": "markdown",
   "metadata": {},
   "source": [
    "## 1.3 Exploratory Data Analysis "
   ]
  },
  {
   "cell_type": "markdown",
   "metadata": {},
   "source": [
    "Ideas to explore\n",
    "\n",
    "Probably want to convert date_information to a datetime object \n",
    "\n",
    "Categorical Attributes: Province, Country, Chronic disease, outcome_group, Sex\n",
    "Numerical: Age, Date\n",
    "By: country, Age, Sex\n",
    "Age range: 18 - 30, < 18, 60 >\n"
   ]
  },
  {
   "cell_type": "markdown",
   "metadata": {},
   "source": [
    "### 1.3.1 train / test dataset"
   ]
  },
  {
   "cell_type": "code",
   "execution_count": null,
   "metadata": {},
   "outputs": [],
   "source": [
    "stats_cases_train = cases_train.describe(include='all')\n",
    "stats_cases_train = stats_cases_train.append(pd.DataFrame([cases_train.isna().sum()], index=['null'])) # add count of null values\n",
    "stats_cases_train = stats_cases_train.iloc[[0,11,1]] # keep [count, null, unique]\n",
    "stats_cases_train"
   ]
  },
  {
   "cell_type": "code",
   "execution_count": null,
   "metadata": {},
   "outputs": [],
   "source": [
    "stats_cases_test = cases_test.describe(include='all').round(2)\n",
    "stats_cases_test = stats_cases_test.append(pd.DataFrame([cases_test.isna().sum()], index=['null'])) # add count of null values\n",
    "stats_cases_test = stats_cases_test.iloc[[0,11,1]] # keep [count, null, unique]\n",
    "stats_cases_test"
   ]
  },
  {
   "cell_type": "code",
   "execution_count": null,
   "metadata": {},
   "outputs": [],
   "source": [
    "# age attribute\n",
    "plt.figure(figsize=(14,5))\n",
    "plt.subplot(1,2,1)\n",
    "plt.hist(pd.to_numeric(cases_train['age'], errors='coerce'), bins=10)\n",
    "plt.title('Train Cases by Age')\n",
    "plt.xlabel('Age')\n",
    "plt.ylabel('Count')\n",
    "\n",
    "plt.subplot(1,2,2)\n",
    "plt.hist(pd.to_numeric(cases_test['age'], errors='coerce'), bins=10)\n",
    "plt.title('Test Cases by Age')\n",
    "plt.xlabel('Age')\n",
    "plt.ylabel('Count')\n",
    "#plt.show()\n",
    "plt.savefig('plots/task-1.3/Train_Test_Age.svg')"
   ]
  },
  {
   "cell_type": "code",
   "execution_count": null,
   "metadata": {},
   "outputs": [],
   "source": [
    "# sex attribute\n",
    "plt.figure(figsize=(6,3))\n",
    "plt.subplot(1,2,1)\n",
    "plt.bar(cases_train['sex'].value_counts().index,cases_train['sex'].value_counts())\n",
    "plt.title('Train Cases by Sex')\n",
    "plt.ylabel('Count')\n",
    "\n",
    "plt.subplot(1,2,2)\n",
    "plt.bar(cases_test['sex'].value_counts().index,cases_test['sex'].value_counts())\n",
    "plt.title('Test Cases by Sex')\n",
    "plt.ylabel('Count')\n",
    "plt.tight_layout()\n",
    "#plt.show()\n",
    "plt.savefig('plots/task-1.3/Train_Test_Sex.svg')"
   ]
  },
  {
   "cell_type": "code",
   "execution_count": null,
   "metadata": {},
   "outputs": [],
   "source": [
    "plt.figure(figsize=(14,5))\n",
    "plt.subplot(1,2,1)\n",
    "values = cases_train[['age', 'sex']]\n",
    "plt.hist(pd.to_numeric(values.loc[values['sex']=='male', 'age'], errors='coerce'), bins=10)\n",
    "plt.hist(pd.to_numeric(values.loc[values['sex']=='female', 'age'], errors='coerce'), bins=10)\n",
    "plt.title('Train Cases by Age and Sex')\n",
    "plt.legend(['male', 'female'])\n",
    "plt.xlabel('Age')\n",
    "plt.ylabel('Count')\n",
    "\n",
    "plt.subplot(1,2,2)\n",
    "values = cases_test[['age', 'sex']]\n",
    "plt.hist(pd.to_numeric(values.loc[values['sex']=='male', 'age'], errors='coerce'), bins=10)\n",
    "plt.hist(pd.to_numeric(values.loc[values['sex']=='female', 'age'], errors='coerce'), bins=10)\n",
    "plt.title('Test Cases by Age and Sex')\n",
    "plt.legend(['male', 'female'])\n",
    "plt.xlabel('Age')\n",
    "plt.ylabel('Count')\n",
    "#plt.show()\n",
    "plt.savefig('plots/task-1.3/Train_Test_Age_Sex.svg')"
   ]
  },
  {
   "cell_type": "code",
   "execution_count": null,
   "metadata": {},
   "outputs": [],
   "source": [
    "# country attribute\n",
    "plt.figure(figsize=(12,5))\n",
    "plt.subplot(1,2,1)\n",
    "values = pd.DataFrame(cases_train['country'].value_counts()).reset_index()\n",
    "values['index'] = values.apply(lambda x: x['index'] if x.country>100 else 'Other', axis=1)# sumarize others\n",
    "plt.bar(values['index'], values['country'])\n",
    "plt.title('Train Cases by Country')\n",
    "plt.ylabel('Count')\n",
    "\n",
    "plt.subplot(1,2,2)\n",
    "values = pd.DataFrame(cases_test['country'].value_counts()).reset_index()\n",
    "values['index'] = values.apply(lambda x: x['index'] if x.country>60 else 'Other', axis=1)# sumarize others\n",
    "plt.bar(values['index'], values['country'])\n",
    "plt.title('Test Cases by Country')\n",
    "plt.ylabel('Count')\n",
    "plt.tight_layout()\n",
    "#plt.show()\n",
    "plt.savefig('plots/task-1.3/Train_Test_Country.svg')"
   ]
  },
  {
   "cell_type": "code",
   "execution_count": null,
   "metadata": {},
   "outputs": [],
   "source": [
    "# country attribute\n",
    "plt.figure(figsize=(12,5))\n",
    "plt.subplot(1,2,1)\n",
    "values = pd.DataFrame(cases_train['country'].value_counts()).reset_index()\n",
    "values = values.drop(index=[0, 1])\n",
    "values['index'] = values.apply(lambda x: x['index'] if x.country>60 else 'Other', axis=1)# sumarize others\n",
    "plt.bar(values['index'], values['country'])\n",
    "plt.title('Train Cases by Country (w/o India, Philippines)')\n",
    "plt.ylabel('Count')\n",
    "\n",
    "plt.subplot(1,2,2)\n",
    "values = pd.DataFrame(cases_test['country'].value_counts()).reset_index()\n",
    "values = values.drop(index=[0, 1])\n",
    "values['index'] = values.apply(lambda x: x['index'] if x.country>30 else 'Other', axis=1)# sumarize others\n",
    "plt.bar(values['index'], values['country'])\n",
    "plt.title('Test Cases by Country (w/o India, Philippines)')\n",
    "plt.ylabel('Count')\n",
    "#plt.show()\n",
    "plt.savefig('plots/task-1.3/Train_Test_Country2.svg')"
   ]
  },
  {
   "cell_type": "code",
   "execution_count": null,
   "metadata": {},
   "outputs": [],
   "source": [
    "# province attribute - India\n",
    "plt.figure(figsize=(20,6))\n",
    "plt.subplot(1,2,1)\n",
    "values = cases_train[cases_train['country']=='India']\n",
    "values = pd.DataFrame(values['province'].value_counts().sort_values(ascending=True)).reset_index()\n",
    "values['index'] = values.apply(lambda x: x['index'] if x.province>500 else 'Other', axis=1)#sumarize others\n",
    "plt.barh(values['index'], values['province'])\n",
    "plt.title('Train Cases by Province for India')\n",
    "plt.xlabel('Count')\n",
    "\n",
    "plt.subplot(1,2,2)\n",
    "values = cases_test[cases_test['country']=='India']\n",
    "values = pd.DataFrame(values['province'].value_counts().sort_values(ascending=True)).reset_index()\n",
    "values['index'] = values.apply(lambda x: x['index'] if x.province>500 else 'Other', axis=1)#sumarize others\n",
    "plt.barh(values['index'], values['province'])\n",
    "plt.title('Test Cases by Province for India')\n",
    "plt.xlabel('Count')\n",
    "plt.tight_layout()\n",
    "\n",
    "#plt.show()\n",
    "plt.savefig('plots/task-1.3/Train_Test_Provinces_India.svg')"
   ]
  },
  {
   "cell_type": "code",
   "execution_count": null,
   "metadata": {},
   "outputs": [],
   "source": [
    "# province attribute - Philippines\n",
    "plt.figure(figsize=(20,6))\n",
    "plt.subplot(1,2,1)\n",
    "values = cases_train[cases_train['country']=='Philippines']\n",
    "values = pd.DataFrame(values['province'].value_counts().sort_values(ascending=True)).reset_index()\n",
    "values['index'] = values.apply(lambda x: x['index'] if x.province>10 else 'Other', axis=1)#sumarize others\n",
    "plt.barh(values['index'], values['province'])\n",
    "plt.title('Train Cases by Province for Philippines')\n",
    "plt.xlabel('Count')\n",
    "\n",
    "plt.subplot(1,2,2)\n",
    "values = cases_test[cases_test['country']=='Philippines']\n",
    "values = pd.DataFrame(values['province'].value_counts().sort_values(ascending=True)).reset_index()\n",
    "values['index'] = values.apply(lambda x: x['index'] if x.province>10 else 'Other', axis=1)#sumarize others\n",
    "plt.barh(values['index'], values['province'])\n",
    "plt.title('Test Cases by Province for Philippines')\n",
    "plt.xlabel('Count')\n",
    "plt.tight_layout()\n",
    "\n",
    "#plt.show()\n",
    "plt.savefig('plots/task-1.3/Train_Test_Provinces_Philippines.svg')"
   ]
  },
  {
   "cell_type": "code",
   "execution_count": null,
   "metadata": {},
   "outputs": [],
   "source": [
    "# latitude / longitude attribute\n",
    "plt.figure(figsize=(16,5))\n",
    "plt.subplot(1,2,1)\n",
    "plt.plot(cases_train['latitude'], cases_train['longitude'], '.')\n",
    "plt.title('Train Cases by Latitude / Longitude')\n",
    "plt.xlabel('Latitude')\n",
    "plt.ylabel('Longitude')\n",
    "\n",
    "plt.subplot(1,2,2)\n",
    "plt.plot(cases_test['latitude'], cases_test['longitude'], '.')\n",
    "plt.title('Test Cases by Latitude / Longitude')\n",
    "plt.xlabel('Latitude')\n",
    "plt.ylabel('Longitude')\n",
    "\n",
    "#plt.show()\n",
    "plt.savefig('plots/task-1.3/Train_Test_Lat_Lon.svg')"
   ]
  },
  {
   "cell_type": "code",
   "execution_count": null,
   "metadata": {},
   "outputs": [],
   "source": [
    "# date_confirmation attribute\n",
    "\n",
    "# add month attribute\n",
    "cases_train['month'] = cases_train.apply(lambda x: str(x.date_confirmation)[3:5] + str(x.date_confirmation)[6:10], axis=1)\n",
    "cases_train = cases_train.replace(\"\", np.NaN)\n",
    "cases_test['month'] = cases_test.apply(lambda x: str(x.date_confirmation)[3:5] + str(x.date_confirmation)[6:10], axis=1)\n",
    "cases_test = cases_test.replace(\"\", np.NaN)\n",
    "\n",
    "plt.figure(figsize=(16, 5))\n",
    "plt.subplot(1,2,1)\n",
    "plt.bar(cases_train['month'].value_counts().index, cases_train['month'].value_counts())\n",
    "plt.title('Train Cases by Confirmation Date')\n",
    "plt.xlabel('Month')\n",
    "plt.ylabel('Count')\n",
    "\n",
    "plt.subplot(1,2,2)\n",
    "plt.bar(cases_test['month'].value_counts().index, cases_test['month'].value_counts())\n",
    "plt.title('Test Cases by Confirmation Date')\n",
    "plt.xlabel('Month')\n",
    "plt.ylabel('Count')\n",
    "\n",
    "#plt.show()\n",
    "plt.savefig('plots/task-1.3/Train_Test_Date.svg')"
   ]
  },
  {
   "cell_type": "code",
   "execution_count": null,
   "metadata": {},
   "outputs": [],
   "source": [
    "# chronic disease  attribute\n",
    "plt.figure(figsize=(9,4))\n",
    "plt.subplot(1,2,1)\n",
    "plt.bar(['True','False'],cases_train['chronic_disease_binary'].value_counts())\n",
    "plt.title('Train Cases by Chronic Disease')\n",
    "plt.ylabel('Count')\n",
    "\n",
    "plt.subplot(1,2,2)\n",
    "plt.bar(['True','False'],cases_test['chronic_disease_binary'].value_counts())\n",
    "plt.title('Test Cases by Chronic Disease')\n",
    "plt.ylabel('Count')\n",
    "plt.tight_layout()\n",
    "\n",
    "#plt.show()\n",
    "plt.savefig('plots/task-1.3/Train_Test_Chronic_Disease.svg')"
   ]
  },
  {
   "cell_type": "code",
   "execution_count": null,
   "metadata": {},
   "outputs": [],
   "source": [
    "#outcome group attribute\n",
    "plt.bar(cases_train['outcome_group'].value_counts().index,cases_train['outcome_group'].value_counts())\n",
    "plt.title('Train Cases by Outcome Group')\n",
    "plt.ylabel('Count')\n",
    "#plt.show()\n",
    "plt.savefig('plots/task-1.3/Train_Test_Outcome_Group.svg')"
   ]
  },
  {
   "cell_type": "markdown",
   "metadata": {},
   "source": [
    "### 1.3.2 location dataset"
   ]
  },
  {
   "cell_type": "code",
   "execution_count": null,
   "metadata": {},
   "outputs": [],
   "source": [
    "stats_cases_location = cases_location.describe(include=\"all\").round(2)\n",
    "stats_cases_location = stats_cases_location.append(pd.DataFrame([cases_location.isna().sum()], index=['null'])) # add count of null values\n",
    "stats_cases_location = stats_cases_location.iloc[[0,11,1, 4, 5, 6, 10]] # keep [count, null, unique]\n",
    "stats_cases_location"
   ]
  },
  {
   "cell_type": "code",
   "execution_count": null,
   "metadata": {},
   "outputs": [],
   "source": [
    "# country / region attribute\n",
    "plt.figure(figsize=(16,5))\n",
    "values = pd.DataFrame(cases_location['Country_Region'].value_counts()).reset_index()\n",
    "values['index'] = values.apply(lambda x: x['index'] if x['Country_Region']>15 else 'Other', axis=1)# sumarize others\n",
    "plt.bar(values['index'], values['Country_Region'])\n",
    "plt.title('Data Points per Country / Region')\n",
    "plt.ylabel('Count')\n",
    "plt.xticks(rotation=45)\n",
    "\n",
    "#plt.show()\n",
    "plt.savefig('plots/task-1.3/Location_Region.svg')"
   ]
  },
  {
   "cell_type": "code",
   "execution_count": null,
   "metadata": {},
   "outputs": [],
   "source": [
    "# latitude / longitude attribute\n",
    "plt.figure(figsize=(10,7))\n",
    "plt.plot(cases_location['Lat'], cases_location['Long_'], '.')\n",
    "plt.title('Data Points by Latitude / Longitude')\n",
    "plt.xlabel('Latitude')\n",
    "plt.ylabel('Longitude')\n",
    "\n",
    "#plt.show()\n",
    "plt.savefig('plots/task-1.3/Location_Lat_Lon.svg')"
   ]
  },
  {
   "cell_type": "code",
   "execution_count": null,
   "metadata": {},
   "outputs": [],
   "source": [
    "# confirmed, recovered, active, deaths attribute\n",
    "values = cases_location.groupby('Country_Region').sum()\n",
    "values = values.nlargest(25, 'Confirmed') #get Top 25 countries\n",
    "\n",
    "plt.figure(figsize=(16,5))\n",
    "plt.bar(values.index, values['Recovered'], color='green')\n",
    "plt.bar(values.index, values['Active'], color='orange')\n",
    "plt.bar(values.index, values['Deaths'],  color='black')\n",
    "plt.xticks(rotation=45)\n",
    "plt.legend(['Recovered', 'Active', 'Deaths'])\n",
    "plt.title('Confirmed Cases by Country')\n",
    "plt.ylabel('Count')\n",
    "plt.ticklabel_format(axis='y', style='plain') # prevent scientific notation\n",
    "\n",
    "#plt.show()\n",
    "plt.savefig('plots/task-1.3/Location_Confirmed.svg')"
   ]
  },
  {
   "cell_type": "code",
   "execution_count": null,
   "metadata": {},
   "outputs": [],
   "source": [
    "# incident rate attribute\n",
    "values = cases_location.groupby('Country_Region').mean()\n",
    "values = values.nlargest(25, 'Incident_Rate')\n",
    "\n",
    "plt.figure(figsize=(16,5))\n",
    "plt.plot(values.index, values['Incident_Rate'])\n",
    "plt.xticks(rotation=45)\n",
    "plt.title('Incident Rate by Country')\n",
    "plt.ylabel('Incident Rate')\n",
    "\n",
    "#plt.show()\n",
    "plt.savefig('plots/task-1.3/Location_Incident_Rate.svg')"
   ]
  },
  {
   "cell_type": "code",
   "execution_count": null,
   "metadata": {},
   "outputs": [],
   "source": [
    "# case_fatality attribute\n",
    "values = cases_location.groupby('Country_Region').mean()\n",
    "values = values.nlargest(25, 'Case_Fatality_Ratio')\n",
    "\n",
    "plt.figure(figsize=(16,5))\n",
    "plt.plot(values.index, values['Case_Fatality_Ratio'])\n",
    "plt.xticks(rotation=45)\n",
    "plt.title('Case Fatality Ratio by Country')\n",
    "plt.ylabel('Fatality Rate')\n",
    "\n",
    "#plt.show()\n",
    "plt.savefig('plots/task-1.3/Location_Fatality_Rate.svg')"
   ]
  },
  {
   "cell_type": "markdown",
   "metadata": {},
   "source": [
    "## 1.4 Data Cleaning and Imputing Missing Values\n",
    "Datasets involved: cases_2021_train.csv, cases_2021_test.csv, location_2021.csv"
   ]
  },
  {
   "cell_type": "code",
   "execution_count": null,
   "metadata": {},
   "outputs": [],
   "source": [
    "# Primary: age column -> remove all entries that are NaN\n",
    "# format age to standard integer\n",
    "# potential approaches: \n",
    "\n",
    "# other columns -> impute, what strategies can we use to impute missing values of different columns\n",
    "# additional information: best action is replace NaN with \"\""
   ]
  },
  {
   "cell_type": "code",
   "execution_count": null,
   "metadata": {},
   "outputs": [],
   "source": [
    "# Removing NaN's from age column in train and test datasets\n",
    "\n",
    "cases_train = cases_train[cases_train['age'].notna()].reset_index()\n",
    "cases_test = cases_test[cases_test['age'].notna()].reset_index()\n"
   ]
  },
  {
   "cell_type": "code",
   "execution_count": null,
   "metadata": {},
   "outputs": [],
   "source": [
    "# Strip all whitespace from 'age' columns\n",
    "cases_train['age'] = cases_train['age'].str.strip()\n",
    "cases_test['age'] = cases_test['age'].str.strip()"
   ]
  },
  {
   "cell_type": "code",
   "execution_count": null,
   "metadata": {},
   "outputs": [],
   "source": [
    "# age range greater than 10 should be removed?\n",
    "\n",
    "# FIX: Remove empty spaces from 'age' column\n",
    "# FOUND EDGE CASE: ['80', ''] -> 80 - \n",
    "\n",
    "def range_to_num(age):\n",
    "    range = 10\n",
    "\n",
    "    a_list = age.split('-')\n",
    "    # print(a_list)\n",
    "\n",
    "    if (a_list[0] == ''):\n",
    "        return round(float(a_list[1]))\n",
    "    elif ((len(a_list)) == 2 and (a_list[1] == '')):\n",
    "        return round(float(a_list[0]))\n",
    "\n",
    "    map_ints = map(float, a_list)\n",
    "    map_list = list(map_ints)\n",
    "\n",
    "    if (len(map_list) == 1):\n",
    "        return round(map_list[0])  \n",
    "\n",
    "    if ((map_list[1] - map_list[0]) > range):\n",
    "        return 'remove'\n",
    "    else:\n",
    "        return round((map_list[1] + map_list[0]) / 2)\n"
   ]
  },
  {
   "cell_type": "code",
   "execution_count": null,
   "metadata": {},
   "outputs": [],
   "source": [
    "cases_train = cases_train.drop(columns=['index'])\n",
    "cases_test = cases_test.drop(columns=['index'])"
   ]
  },
  {
   "cell_type": "code",
   "execution_count": null,
   "metadata": {},
   "outputs": [],
   "source": [
    "# STEPS TO CLEAN VALUES IN AGE COLUMN\n",
    "#1. Format all values with 'x-x' range to a single int value or 'remove'\n",
    "#2. Remove all entries labelled 'remove' \n",
    "#3. Convert all column entries to int\n",
    "#4. Use round() on all values to get rid of 0.3, 0.5, 0.8 values -> some babies"
   ]
  },
  {
   "cell_type": "code",
   "execution_count": null,
   "metadata": {},
   "outputs": [],
   "source": [
    "# Cleaning train dataset - age\n",
    "\n",
    "cases_train['age'] = cases_train['age'].apply(lambda x: range_to_num(x))\n",
    "cases_train = cases_train[cases_train['age'] != 'remove']\n",
    "cases_train['age'] = pd.to_numeric(cases_train['age'])\n",
    "cases_train['age'] = cases_train['age'].apply(lambda x: round(x))"
   ]
  },
  {
   "cell_type": "code",
   "execution_count": null,
   "metadata": {},
   "outputs": [],
   "source": [
    "# sex\tprovince\tcountry\tlatitude\tlongitude\tdate_confirmation\tadditional_information\tsource\tchronic_disease_binary\toutcome_group\n",
    "# sex: NaN convert to 'unknown'\n",
    "# province: can use latitude and longitude to get province -> need to find appropriate dataset / function to determine geographical location\n",
    "# country: has no NaN values -> is okay\n",
    "# date_confirmation: some NaN values -> think its okay to keep these entries -> convert NaN's to 'unknown'\n",
    "# additional_information: some NaN values -> convert to 'unknown'\n",
    "# source: some NaN values -> convert to 'unknown' ** might want to remove sources that are unknown\n",
    "# chronic_disease_binary: no NaN values\n",
    "# outcome_group: no NaN values"
   ]
  },
  {
   "cell_type": "code",
   "execution_count": null,
   "metadata": {},
   "outputs": [],
   "source": [
    "cases_train[['sex', 'date_confirmation', 'additional_information', 'source']] = cases_train[['sex', 'date_confirmation', 'additional_information', 'source']].fillna('unknown')\n",
    "cases_test[['sex', 'date_confirmation', 'additional_information', 'source']] = cases_test[['sex', 'date_confirmation', 'additional_information', 'source']].fillna('unknown')"
   ]
  },
  {
   "cell_type": "code",
   "execution_count": null,
   "metadata": {},
   "outputs": [],
   "source": [
    "# Clean the locations data\n",
    "cases_location.dropna(subset=['Incident_Rate', 'Case_Fatality_Ratio'], inplace=True)"
   ]
  },
  {
   "cell_type": "markdown",
   "metadata": {},
   "source": [
    "### 1.5 Dealing With Outliers"
   ]
  },
  {
   "cell_type": "markdown",
   "metadata": {},
   "source": [
    "#### Ideas\n",
    "- For the attributes in our dataset, not many could be determined outliers\n",
    "- Age could be an outlier, if the majority of deceased are \"older\" and there is a few random \"young\" cases -> wouldn't want to remove these though\n",
    "- Date_confirmation could be an outlier -> this could occur due to misinput and if the dates are way before Covid-19 was detected throughout the world, can remove the entry\n",
    "- Source could be an attribute to use and remove entries -> if the entry has no source how can we \"trust\" that it is truthful/accurate"
   ]
  },
  {
   "cell_type": "markdown",
   "metadata": {},
   "source": [
    "#### Findings Train / Test\n",
    "- Age: all values seem reasonable\n",
    "- Sex: all values seem reasonable\n",
    "- Province: some countries do not report any provinces\n",
    "- Country: all values seem reasonable\n",
    "- latitude / longitude: all values seems reasonable\n",
    "- date_confirmation: all values seem reasonable\n",
    "- additional information: does not make sense to check for outliers\n",
    "- source: does not make sense to check for outliers\n",
    "- chronic_disease_binary: False even if chronic disease is mentioned\n",
    "- outcome_group: all values seem reasonable"
   ]
  },
  {
   "cell_type": "code",
   "execution_count": null,
   "metadata": {},
   "outputs": [],
   "source": [
    "# set binary to True if chronic disease is mentioned in addional information\n",
    "cases_test['chronic_disease_binary'] = cases_test.apply(lambda x: True if pd.notnull(x.additional_information)\n",
    "                                                        and \"chronic\" in x.additional_information.lower()\n",
    "                                                        else x.chronic_disease_binary, axis=1)\n",
    "\n",
    "cases_train['chronic_disease_binary'] = cases_train.apply(lambda x: True if pd.notnull(x.additional_information)\n",
    "                                                          and \"chronic\" in x.additional_information.lower()\n",
    "                                                          else x.chronic_disease_binary, axis=1)"
   ]
  },
  {
   "cell_type": "code",
   "execution_count": null,
   "metadata": {},
   "outputs": [],
   "source": [
    "# Remove locations that have confirmed cases > 1000 and case_fatality_ratio < 0.1\n",
    "cases_location = cases_location[~((cases_location['Confirmed'] > 1000) & (cases_location['Case_Fatality_Ratio'] < 0.1))].reset_index(drop=True)"
   ]
  },
  {
   "cell_type": "markdown",
   "metadata": {},
   "source": [
    "## 1.6 Joining the cases and location dataset"
   ]
  },
  {
   "cell_type": "code",
   "execution_count": null,
   "metadata": {},
   "outputs": [],
   "source": [
    "# Fix country formatting inconsistencies\n",
    "def fix_country(country):\n",
    "    if country == 'Korea, South':\n",
    "        return 'South Korea'\n",
    "    if country == 'US':\n",
    "        return 'United States'\n",
    "    return country\n",
    "\n",
    "cases_location['Country_Region'] = cases_location['Country_Region'].apply(fix_country)"
   ]
  },
  {
   "cell_type": "code",
   "execution_count": null,
   "metadata": {},
   "outputs": [],
   "source": [
    "# Group the location data by province and country, recalculating the COVID data.\n",
    "cases_location['Province_State'].fillna('', inplace=True)\n",
    "cases_location['Population'] = cases_location['Confirmed'] * 100000 / cases_location['Incident_Rate']\n",
    "grouped_locations = cases_location.groupby(['Province_State', 'Country_Region']).agg({'Lat': 'mean', \n",
    "                                                                                      'Long_': 'mean', \n",
    "                                                                                      'Confirmed': 'sum',\n",
    "                                                                                     'Deaths': 'sum',\n",
    "                                                                                     'Recovered': 'sum',\n",
    "                                                                                     'Active': 'sum',\n",
    "                                                                                     'Population': 'sum'}).reset_index()\n",
    "grouped_locations['Incident_Rate'] = grouped_locations['Confirmed'] / grouped_locations['Population'] * 100000 \n",
    "grouped_locations['Case_Fatality_Ratio'] = grouped_locations['Deaths'] / grouped_locations['Confirmed'] * 100 "
   ]
  },
  {
   "cell_type": "code",
   "execution_count": null,
   "metadata": {},
   "outputs": [],
   "source": [
    "# calculates distance in kilometres between two points given by latitude and longitude\n",
    "# function slightly adjusted from:\n",
    "# https://stackoverflow.com/questions/27928/calculate-distance-between-two-latitude-longitude-points-haversine-formula/21623206\n",
    "def calc_distance(lat1, lon1, lat2, lon2):\n",
    "    earth_radius = 6371 # kilometres    \n",
    "    p = pi/180\n",
    "    a = 0.5 - cos((lat2-lat1)*p)/2 + cos(lat1*p) * cos(lat2*p) * (1-cos((lon2-lon1)*p))/2\n",
    "    return 2 * earth_radius * asin(sqrt(a)) #return in km"
   ]
  },
  {
   "cell_type": "code",
   "execution_count": null,
   "metadata": {},
   "outputs": [],
   "source": [
    "# Replace missing countries in the cases data with the closest country in the locations data.\n",
    "def get_country(lat, lon):\n",
    "    countries = cases_location[['Country_Region', 'Lat', 'Long_']]\n",
    "    countries = countries.groupby(['Country_Region']).mean().dropna().reset_index()\n",
    "    countries['dist'] = countries.apply(lambda x: calc_distance(x.Lat, x.Long_, lat, lon), axis=1)\n",
    "    \n",
    "    return countries.loc[countries['dist'].idxmin(axis=0)]['Country_Region']\n",
    "\n",
    "cases_train['country'] = cases_train.apply(lambda x: get_country(x.latitude, x.longitude) if pd.isnull(x['country']) else x.country, axis=1)\n",
    "cases_test['country'] = cases_test.apply(lambda x: get_country(x.latitude, x.longitude) if pd.isnull(x['country']) else x.country, axis=1)"
   ]
  },
  {
   "cell_type": "code",
   "execution_count": null,
   "metadata": {},
   "outputs": [],
   "source": [
    "# Replace provinces that are missing or don't match anything in the locations dataset with the closest province from the locations dataset\n",
    "def get_province(country, lat, lon):\n",
    "    provinces = cases_location[['Country_Region', 'Province_State', 'Lat', 'Long_']]\n",
    "    provinces = provinces.groupby(['Country_Region', 'Province_State']).mean().dropna().reset_index()\n",
    "    provinces = provinces[provinces['Country_Region']==country]\n",
    "    \n",
    "    if provinces.empty:\n",
    "        return np.nan\n",
    "    \n",
    "    provinces['dist'] = provinces.apply(lambda x: calc_distance(x.Lat, x.Long_, lat, lon), axis=1)\n",
    "    \n",
    "    return provinces.loc[provinces['dist'].idxmin(axis=0)]['Province_State']\n",
    "\n",
    "location_set = set()\n",
    "\n",
    "def add_to_location_set(row):\n",
    "    location_set.add((row['Province_State'], row['Country_Region']))\n",
    "    \n",
    "grouped_locations.apply(add_to_location_set, axis=1)\n",
    "cases_train['province'] = cases_train.apply(lambda x: get_province(x.country, x.latitude, x.longitude) if pd.isnull(x['province']) or (x.province, x.country) not in location_set else x.province, axis=1)\n",
    "cases_test['province'] = cases_test.apply(lambda x: get_province(x.country, x.latitude, x.longitude) if pd.isnull(x['province']) or (x.province, x.country) not in location_set else x.province, axis=1)"
   ]
  },
  {
   "cell_type": "code",
   "execution_count": null,
   "metadata": {},
   "outputs": [],
   "source": [
    "# Merge the training and test data with the location data\n",
    "combined_train = pd.merge(cases_train, grouped_locations, how='inner', left_on=['country', 'province'], right_on = ['Country_Region', 'Province_State'])\n",
    "combined_test = pd.merge(cases_test, grouped_locations, how='inner', left_on=['country', 'province'], right_on = ['Country_Region', 'Province_State'])\n",
    "\n",
    "combined_train.columns = combined_train.columns.str.lower()\n",
    "combined_test.columns = combined_train.columns.str.lower()"
   ]
  },
  {
   "cell_type": "code",
   "execution_count": null,
   "metadata": {},
   "outputs": [],
   "source": [
    "# Save processed data to results directory\n",
    "combined_train.to_csv('results/cases_2021_train_processed.csv', index=False)\n",
    "combined_test.to_csv('results/cases_2021_test_processed.csv', index=False)\n",
    "grouped_locations.to_csv('results/location_2021_processed.csv', index=False)"
   ]
  },
  {
   "cell_type": "markdown",
   "metadata": {},
   "source": [
    "## 1.7 Feature Selection"
   ]
  },
  {
   "cell_type": "code",
   "execution_count": null,
   "metadata": {},
   "outputs": [],
   "source": [
    "# Extract the features from the combined data\n",
    "train_features = combined_train[['age', 'sex', 'province', 'country', 'date_confirmation', 'chronic_disease_binary', 'confirmed', 'deaths', 'population', 'incident_rate', 'case_fatality_ratio', 'outcome_group']]\n",
    "test_features = combined_test[['age', 'sex', 'province', 'country', 'date_confirmation', 'chronic_disease_binary', 'confirmed', 'deaths', 'population', 'incident_rate', 'case_fatality_ratio', 'outcome_group']]"
   ]
  },
  {
   "cell_type": "code",
   "execution_count": null,
   "metadata": {},
   "outputs": [],
   "source": [
    "# Save extracted features to results directory\n",
    "train_features.to_csv('results/cases_2021_train_processed_features.csv', index=False)\n",
    "test_features.to_csv('results/cases_2021_test_processed_features.csv', index=False)"
   ]
  },
  {
   "cell_type": "code",
   "execution_count": null,
   "metadata": {},
   "outputs": [],
   "source": []
  }
 ],
 "metadata": {
  "interpreter": {
   "hash": "3ff4c835d7956487bba13277bf340d67efa161ba50aa68448d8213de87c08323"
  },
  "kernelspec": {
   "display_name": "Python 3",
   "language": "python",
   "name": "python3"
  },
  "language_info": {
   "codemirror_mode": {
    "name": "ipython",
    "version": 3
   },
   "file_extension": ".py",
   "mimetype": "text/x-python",
   "name": "python",
   "nbconvert_exporter": "python",
   "pygments_lexer": "ipython3",
   "version": "3.7.6"
  }
 },
 "nbformat": 4,
 "nbformat_minor": 2
}
